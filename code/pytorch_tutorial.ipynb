{
 "cells": [
  {
   "cell_type": "markdown",
   "source": [
    "# NLP Experiment 2- PyTorch Tutorial\n",
    "周成杰 11/7"
   ],
   "metadata": {
    "collapsed": false
   },
   "id": "11fa21615b79441d"
  },
  {
   "cell_type": "code",
   "execution_count": 29,
   "outputs": [],
   "source": [
    "import torch\n",
    "import torch.nn as nn"
   ],
   "metadata": {
    "collapsed": false,
    "ExecuteTime": {
     "end_time": "2023-11-06T18:35:13.263002100Z",
     "start_time": "2023-11-06T18:35:13.237933800Z"
    }
   },
   "id": "b28de01de84fac7c"
  },
  {
   "cell_type": "markdown",
   "source": [
    "## Torch Tensor\n"
   ],
   "metadata": {
    "collapsed": false
   },
   "id": "508e9158c9287c10"
  },
  {
   "cell_type": "code",
   "execution_count": 3,
   "outputs": [
    {
     "name": "stdout",
     "output_type": "stream",
     "text": [
      "tensor([[1, 2],\n",
      "        [3, 4]])\n"
     ]
    }
   ],
   "source": [
    "data = [[1, 2],[3, 4]]\n",
    "x_data = torch.tensor(data)\n",
    "print(x_data)"
   ],
   "metadata": {
    "collapsed": false,
    "ExecuteTime": {
     "end_time": "2023-11-06T18:01:11.317742400Z",
     "start_time": "2023-11-06T18:01:11.275272700Z"
    }
   },
   "id": "620d8654c3c17fc0"
  },
  {
   "cell_type": "code",
   "execution_count": 4,
   "outputs": [
    {
     "name": "stdout",
     "output_type": "stream",
     "text": [
      "Random Tensor: \n",
      " tensor([[0.8005, 0.1208, 0.1743],\n",
      "        [0.3175, 0.6781, 0.5444]]) \n",
      "\n",
      "Ones Tensor: \n",
      " tensor([[1., 1., 1.],\n",
      "        [1., 1., 1.]]) \n",
      "\n",
      "Zeros Tensor: \n",
      " tensor([[0., 0., 0.],\n",
      "        [0., 0., 0.]])\n"
     ]
    }
   ],
   "source": [
    "# Tensor不同初始化的方式\n",
    "shape = (2,3,)\n",
    "rand_tensor = torch.rand(shape) # 均匀分布，randn正态分布\n",
    "ones_tensor = torch.ones(shape)\n",
    "zeros_tensor = torch.zeros(shape)\n",
    "\n",
    "print(f\"Random Tensor: \\n {rand_tensor} \\n\")\n",
    "print(f\"Ones Tensor: \\n {ones_tensor} \\n\")\n",
    "print(f\"Zeros Tensor: \\n {zeros_tensor}\")"
   ],
   "metadata": {
    "collapsed": false,
    "ExecuteTime": {
     "end_time": "2023-11-06T18:01:59.422243300Z",
     "start_time": "2023-11-06T18:01:59.390555500Z"
    }
   },
   "id": "5069d8407e2bf7de"
  },
  {
   "cell_type": "code",
   "execution_count": 28,
   "outputs": [
    {
     "name": "stdout",
     "output_type": "stream",
     "text": [
      "tensor([[[0.8005, 0.1208],\n",
      "         [0.1743, 0.3175],\n",
      "         [0.6781, 0.5444]]])\n",
      "tensor([[[[0.8005, 0.1208, 0.1743],\n",
      "          [0.3175, 0.6781, 0.5444]]]])\n",
      "tensor([[[0.8005],\n",
      "         [0.1208],\n",
      "         [0.1743]],\n",
      "\n",
      "        [[0.3175],\n",
      "         [0.6781],\n",
      "         [0.5444]]]) torch.Size([2, 3, 1])\n",
      "tensor([[0.8005, 0.1208, 0.1743],\n",
      "        [0.3175, 0.6781, 0.5444]]) torch.Size([2, 3])\n"
     ]
    }
   ],
   "source": [
    "# Torch Tensor在内存中的存储方式：连续/不连续，改变张量shape的几种方式：reshape/view/permute\n",
    "# https://zhuanlan.zhihu.com/p/555700619\n",
    "print(rand_tensor.reshape(1,3,2))\n",
    "print(rand_tensor.view(1,1,2,3))\n",
    "\n",
    "# Tensor的shape拓展与压缩\n",
    "t1 = torch.unsqueeze(rand_tensor,dim=2)\n",
    "print(t1,t1.shape)\n",
    "t2 = torch.squeeze(t1,dim=2)\n",
    "print(t2,t2.shape)"
   ],
   "metadata": {
    "collapsed": false,
    "ExecuteTime": {
     "end_time": "2023-11-06T18:32:21.015866Z",
     "start_time": "2023-11-06T18:32:20.998626800Z"
    }
   },
   "id": "267c6866eb850810"
  },
  {
   "cell_type": "code",
   "execution_count": 9,
   "outputs": [
    {
     "name": "stdout",
     "output_type": "stream",
     "text": [
      "tensor([[0.8005, 0.1208, 0.1743, 0.0000, 0.0000, 0.0000, 1.0000, 1.0000, 1.0000],\n",
      "        [0.3175, 0.6781, 0.5444, 0.0000, 0.0000, 0.0000, 1.0000, 1.0000, 1.0000]])\n",
      "tensor([[0.8005, 0.1208, 0.1743],\n",
      "        [0.3175, 0.6781, 0.5444],\n",
      "        [0.0000, 0.0000, 0.0000],\n",
      "        [0.0000, 0.0000, 0.0000],\n",
      "        [1.0000, 1.0000, 1.0000],\n",
      "        [1.0000, 1.0000, 1.0000]])\n",
      "tensor([[1.0956, 1.0956],\n",
      "        [1.5399, 1.5399]])\n",
      "tensor([[1.8005, 1.1208, 1.1743],\n",
      "        [1.3175, 1.6781, 1.5444]])\n"
     ]
    }
   ],
   "source": [
    "#https://pytorch.org/docs/stable/generated/torch.cat.html#torch.cat\n",
    "t1 = torch.cat([rand_tensor, zeros_tensor, ones_tensor], dim=1)\n",
    "print(t1)\n",
    "t2 = torch.cat([rand_tensor, zeros_tensor, ones_tensor], dim=0)\n",
    "print(t2)\n",
    "\n",
    "# https://pytorch.org/docs/stable/generated/torch.matmul.html#torch.matmul\n",
    "t3 = torch.matmul(rand_tensor,ones_tensor.T)\n",
    "print(t3)\n",
    "\n",
    "# https://pytorch.org/docs/stable/generated/torch.add.html#torch.add\n",
    "t4 = torch.add(rand_tensor,ones_tensor)\n",
    "print(t4)"
   ],
   "metadata": {
    "collapsed": false,
    "ExecuteTime": {
     "end_time": "2023-11-06T18:13:01.129601300Z",
     "start_time": "2023-11-06T18:13:01.099557400Z"
    }
   },
   "id": "2b62298d34467bb2"
  },
  {
   "cell_type": "code",
   "execution_count": null,
   "outputs": [],
   "source": [],
   "metadata": {
    "collapsed": false
   },
   "id": "863b2da9d773d702"
  },
  {
   "cell_type": "markdown",
   "source": [
    "## Torch Neural Network"
   ],
   "metadata": {
    "collapsed": false
   },
   "id": "eb6d0b7321af3889"
  },
  {
   "cell_type": "code",
   "execution_count": 32,
   "outputs": [
    {
     "name": "stdout",
     "output_type": "stream",
     "text": [
      "Parameter containing:\n",
      "tensor([[-0.1215,  0.3440, -0.3900,  0.1044, -0.1939],\n",
      "        [-0.1592,  0.3668,  0.2511, -0.1914, -0.2816]], requires_grad=True)\n",
      "Parameter containing:\n",
      "tensor([[-0.3247, -0.3814,  0.2107,  0.3480, -0.4240],\n",
      "        [-0.2716, -0.1629, -0.0786, -0.1665,  0.1474]], requires_grad=True)\n",
      "Parameter containing:\n",
      "tensor([-0.3223, -0.2733], requires_grad=True)\n"
     ]
    }
   ],
   "source": [
    "# Linear Layer\n",
    "# https://pytorch.org/docs/stable/generated/torch.nn.Linear.html#torch.nn.Linear\n",
    "\n",
    "linear = nn.Linear(5,2,bias=False)\n",
    "for param in linear.parameters():\n",
    "    print(param)\n",
    "\n",
    "linear2 = nn.Linear(5,2,bias=True)\n",
    "for param in linear2.parameters():\n",
    "    print(param)"
   ],
   "metadata": {
    "collapsed": false,
    "ExecuteTime": {
     "end_time": "2023-11-06T18:45:04.965084700Z",
     "start_time": "2023-11-06T18:45:04.948039300Z"
    }
   },
   "id": "58f754bc433d5927"
  },
  {
   "cell_type": "code",
   "execution_count": 36,
   "outputs": [
    {
     "name": "stdout",
     "output_type": "stream",
     "text": [
      "tensor([[[-0.3628, -0.3967],\n",
      "         [-0.2073, -0.6649],\n",
      "         [-0.6159,  0.2434],\n",
      "         [ 0.6381, -0.0023],\n",
      "         [-0.4054,  0.0838],\n",
      "         [-0.3294, -0.0058]],\n",
      "\n",
      "        [[ 0.7599,  0.2221],\n",
      "         [-0.2213,  0.4296],\n",
      "         [ 0.4018, -1.2950],\n",
      "         [ 0.9586, -0.7426],\n",
      "         [ 0.4638, -1.2840],\n",
      "         [ 0.6606,  0.7012]],\n",
      "\n",
      "        [[ 0.0880, -0.0531],\n",
      "         [ 0.2026,  0.7092],\n",
      "         [ 0.0043, -0.9480],\n",
      "         [-1.3609, -0.6373],\n",
      "         [-0.8310,  0.0135],\n",
      "         [ 0.7950,  0.4819]],\n",
      "\n",
      "        [[-0.5441, -0.4280],\n",
      "         [-0.2033,  0.0511],\n",
      "         [-0.7577,  0.0222],\n",
      "         [ 0.3995, -0.7188],\n",
      "         [ 0.7437,  0.7451],\n",
      "         [-0.0713,  0.3792]]], grad_fn=<UnsafeViewBackward0>) torch.Size([4, 6, 2])\n"
     ]
    }
   ],
   "source": [
    "x = torch.randn(4,6,5) # batch * length * dim\n",
    "# print(x)\n",
    "y = linear(x)\n",
    "print(y,y.shape)"
   ],
   "metadata": {
    "collapsed": false,
    "ExecuteTime": {
     "end_time": "2023-11-06T18:51:16.814436900Z",
     "start_time": "2023-11-06T18:51:16.795851100Z"
    }
   },
   "id": "c5037cedc0042854"
  },
  {
   "cell_type": "code",
   "execution_count": 41,
   "outputs": [
    {
     "name": "stdout",
     "output_type": "stream",
     "text": [
      "tensor([[[-0.3628, -0.3967],\n",
      "         [-0.2073, -0.6649],\n",
      "         [-0.6159,  0.2434],\n",
      "         [ 0.6381, -0.0023],\n",
      "         [-0.4054,  0.0838],\n",
      "         [-0.3294, -0.0058]],\n",
      "\n",
      "        [[ 0.7599,  0.2221],\n",
      "         [-0.2213,  0.4296],\n",
      "         [ 0.4018, -1.2950],\n",
      "         [ 0.9586, -0.7426],\n",
      "         [ 0.4638, -1.2840],\n",
      "         [ 0.6606,  0.7012]],\n",
      "\n",
      "        [[ 0.0880, -0.0531],\n",
      "         [ 0.2026,  0.7092],\n",
      "         [ 0.0043, -0.9480],\n",
      "         [-1.3609, -0.6373],\n",
      "         [-0.8310,  0.0135],\n",
      "         [ 0.7950,  0.4819]],\n",
      "\n",
      "        [[-0.5441, -0.4280],\n",
      "         [-0.2033,  0.0511],\n",
      "         [-0.7577,  0.0222],\n",
      "         [ 0.3995, -0.7188],\n",
      "         [ 0.7437,  0.7451],\n",
      "         [-0.0713,  0.3792]]], grad_fn=<UnsafeViewBackward0>)\n",
      "tensor([[[0.0000, 0.0000],\n",
      "         [0.0000, 0.0000],\n",
      "         [0.0000, 0.2434],\n",
      "         [0.6381, 0.0000],\n",
      "         [0.0000, 0.0838],\n",
      "         [0.0000, 0.0000]],\n",
      "\n",
      "        [[0.7599, 0.2221],\n",
      "         [0.0000, 0.4296],\n",
      "         [0.4018, 0.0000],\n",
      "         [0.9586, 0.0000],\n",
      "         [0.4638, 0.0000],\n",
      "         [0.6606, 0.7012]],\n",
      "\n",
      "        [[0.0880, 0.0000],\n",
      "         [0.2026, 0.7092],\n",
      "         [0.0043, 0.0000],\n",
      "         [0.0000, 0.0000],\n",
      "         [0.0000, 0.0135],\n",
      "         [0.7950, 0.4819]],\n",
      "\n",
      "        [[0.0000, 0.0000],\n",
      "         [0.0000, 0.0511],\n",
      "         [0.0000, 0.0222],\n",
      "         [0.3995, 0.0000],\n",
      "         [0.7437, 0.7451],\n",
      "         [0.0000, 0.3792]]], grad_fn=<ReluBackward0>)\n"
     ]
    }
   ],
   "source": [
    "# activation Layer\n",
    "\n",
    "activation = nn.ReLU()\n",
    "print(y)\n",
    "z = activation(y)\n",
    "print(z)"
   ],
   "metadata": {
    "collapsed": false,
    "ExecuteTime": {
     "end_time": "2023-11-06T19:05:13.429428100Z",
     "start_time": "2023-11-06T19:05:13.403370Z"
    }
   },
   "id": "b2c8a70946f089ce"
  },
  {
   "cell_type": "code",
   "execution_count": 42,
   "outputs": [
    {
     "name": "stdout",
     "output_type": "stream",
     "text": [
      "tensor([[[-0.3628, -0.3967],\n",
      "         [-0.2073, -0.6649],\n",
      "         [-0.6159,  0.2434],\n",
      "         [ 0.6381, -0.0023],\n",
      "         [-0.4054,  0.0838],\n",
      "         [-0.3294, -0.0058]],\n",
      "\n",
      "        [[ 0.7599,  0.2221],\n",
      "         [-0.2213,  0.4296],\n",
      "         [ 0.4018, -1.2950],\n",
      "         [ 0.9586, -0.7426],\n",
      "         [ 0.4638, -1.2840],\n",
      "         [ 0.6606,  0.7012]],\n",
      "\n",
      "        [[ 0.0880, -0.0531],\n",
      "         [ 0.2026,  0.7092],\n",
      "         [ 0.0043, -0.9480],\n",
      "         [-1.3609, -0.6373],\n",
      "         [-0.8310,  0.0135],\n",
      "         [ 0.7950,  0.4819]],\n",
      "\n",
      "        [[-0.5441, -0.4280],\n",
      "         [-0.2033,  0.0511],\n",
      "         [-0.7577,  0.0222],\n",
      "         [ 0.3995, -0.7188],\n",
      "         [ 0.7437,  0.7451],\n",
      "         [-0.0713,  0.3792]]], grad_fn=<UnsafeViewBackward0>)\n",
      "tensor([[[0.5085, 0.4915],\n",
      "         [0.6124, 0.3876],\n",
      "         [0.2975, 0.7025],\n",
      "         [0.6548, 0.3452],\n",
      "         [0.3801, 0.6199],\n",
      "         [0.4198, 0.5802]],\n",
      "\n",
      "        [[0.6313, 0.3687],\n",
      "         [0.3428, 0.6572],\n",
      "         [0.8451, 0.1549],\n",
      "         [0.8457, 0.1543],\n",
      "         [0.8517, 0.1483],\n",
      "         [0.4898, 0.5102]],\n",
      "\n",
      "        [[0.5352, 0.4648],\n",
      "         [0.3760, 0.6240],\n",
      "         [0.7216, 0.2784],\n",
      "         [0.3266, 0.6734],\n",
      "         [0.3006, 0.6994],\n",
      "         [0.5777, 0.4223]],\n",
      "\n",
      "        [[0.4710, 0.5290],\n",
      "         [0.4367, 0.5633],\n",
      "         [0.3143, 0.6857],\n",
      "         [0.7537, 0.2463],\n",
      "         [0.4997, 0.5003],\n",
      "         [0.3892, 0.6108]]], grad_fn=<SoftmaxBackward0>)\n"
     ]
    }
   ],
   "source": [
    "# softmax Layer\n",
    "\n",
    "softmax = nn.Softmax(dim=2)\n",
    "print(y)\n",
    "z1 = softmax(y)\n",
    "print(z1)"
   ],
   "metadata": {
    "collapsed": false,
    "ExecuteTime": {
     "end_time": "2023-11-06T19:08:21.086540600Z",
     "start_time": "2023-11-06T19:08:21.037951500Z"
    }
   },
   "id": "2bace34e8d7ef19c"
  },
  {
   "cell_type": "code",
   "execution_count": 40,
   "outputs": [
    {
     "name": "stdout",
     "output_type": "stream",
     "text": [
      "tensor([[[0.8592, 0.0174, 0.8639, 0.3702],\n",
      "         [0.5233, 0.9780, 0.4521, 0.8146],\n",
      "         [0.1710, 0.5368, 0.5127, 0.1182]],\n",
      "\n",
      "        [[0.6980, 0.1634, 0.6144, 0.0277],\n",
      "         [0.6007, 0.0121, 0.2936, 0.5517],\n",
      "         [0.5486, 0.8967, 0.7572, 0.6998]]])\n",
      "tensor([[[1.7183, 0.0348, 0.0000, 0.0000],\n",
      "         [1.0466, 1.9559, 0.0000, 1.6292],\n",
      "         [0.0000, 1.0737, 1.0254, 0.2364]],\n",
      "\n",
      "        [[0.0000, 0.0000, 0.0000, 0.0553],\n",
      "         [0.0000, 0.0243, 0.0000, 0.0000],\n",
      "         [0.0000, 1.7934, 1.5143, 0.0000]]])\n",
      "tensor([[[1.7183, 0.0348, 1.7278, 0.0000],\n",
      "         [0.0000, 0.0000, 0.9042, 1.6292],\n",
      "         [0.0000, 0.0000, 0.0000, 0.2364]],\n",
      "\n",
      "        [[0.0000, 0.0000, 1.2288, 0.0000],\n",
      "         [0.0000, 0.0243, 0.0000, 0.0000],\n",
      "         [1.0973, 0.0000, 1.5143, 0.0000]]])\n"
     ]
    }
   ],
   "source": [
    "# Dropout layer\n",
    "\n",
    "dropout = nn.Dropout(p=0.5)\n",
    "x1 = torch.rand(2,3,4)\n",
    "print(x1)\n",
    "y1 = dropout(x1)\n",
    "y2 = dropout(x1)\n",
    "print(y1)\n",
    "print(y2)"
   ],
   "metadata": {
    "collapsed": false,
    "ExecuteTime": {
     "end_time": "2023-11-06T19:00:38.201384500Z",
     "start_time": "2023-11-06T19:00:38.184328100Z"
    }
   },
   "id": "b4bf2fe6c6efaf0"
  },
  {
   "cell_type": "code",
   "execution_count": 46,
   "outputs": [],
   "source": [],
   "metadata": {
    "collapsed": false,
    "ExecuteTime": {
     "end_time": "2023-11-06T19:18:32.904438100Z",
     "start_time": "2023-11-06T19:18:32.876311900Z"
    }
   },
   "id": "f29fa09baa15f96"
  },
  {
   "cell_type": "code",
   "execution_count": 46,
   "outputs": [
    {
     "name": "stdout",
     "output_type": "stream",
     "text": [
      "Parameter containing:\n",
      "tensor([[-0.7657, -1.9638, -1.3845, -1.1404, -0.2116],\n",
      "        [ 1.4877,  0.0500,  1.4616,  1.7402, -0.3242],\n",
      "        [-0.3998, -1.4812, -0.2772,  0.6905,  0.6825],\n",
      "        [ 0.4230, -0.5876, -0.6416,  0.2801,  0.5740],\n",
      "        [-0.4172, -0.4693, -0.8067,  1.9842,  1.2168],\n",
      "        [ 0.6307,  1.7329,  0.7282,  0.0100, -1.6937],\n",
      "        [-0.2798, -0.5744, -1.7183,  0.0976, -0.4376],\n",
      "        [ 0.5681, -0.7682, -0.1739, -0.6880,  0.0435],\n",
      "        [-0.0827, -0.2418, -0.0357, -0.0938, -0.1249],\n",
      "        [ 0.8882,  0.5511, -0.7181, -0.9120,  0.0813]], requires_grad=True) torch.Size([10, 5])\n",
      "tensor([[2, 8, 9, 5, 2, 9],\n",
      "        [4, 0, 3, 7, 7, 0],\n",
      "        [7, 4, 0, 1, 4, 5],\n",
      "        [9, 0, 7, 3, 9, 5]])\n",
      "tensor([[[-0.3998, -1.4812, -0.2772,  0.6905,  0.6825],\n",
      "         [-0.0827, -0.2418, -0.0357, -0.0938, -0.1249],\n",
      "         [ 0.8882,  0.5511, -0.7181, -0.9120,  0.0813],\n",
      "         [ 0.6307,  1.7329,  0.7282,  0.0100, -1.6937],\n",
      "         [-0.3998, -1.4812, -0.2772,  0.6905,  0.6825],\n",
      "         [ 0.8882,  0.5511, -0.7181, -0.9120,  0.0813]],\n",
      "\n",
      "        [[-0.4172, -0.4693, -0.8067,  1.9842,  1.2168],\n",
      "         [-0.7657, -1.9638, -1.3845, -1.1404, -0.2116],\n",
      "         [ 0.4230, -0.5876, -0.6416,  0.2801,  0.5740],\n",
      "         [ 0.5681, -0.7682, -0.1739, -0.6880,  0.0435],\n",
      "         [ 0.5681, -0.7682, -0.1739, -0.6880,  0.0435],\n",
      "         [-0.7657, -1.9638, -1.3845, -1.1404, -0.2116]],\n",
      "\n",
      "        [[ 0.5681, -0.7682, -0.1739, -0.6880,  0.0435],\n",
      "         [-0.4172, -0.4693, -0.8067,  1.9842,  1.2168],\n",
      "         [-0.7657, -1.9638, -1.3845, -1.1404, -0.2116],\n",
      "         [ 1.4877,  0.0500,  1.4616,  1.7402, -0.3242],\n",
      "         [-0.4172, -0.4693, -0.8067,  1.9842,  1.2168],\n",
      "         [ 0.6307,  1.7329,  0.7282,  0.0100, -1.6937]],\n",
      "\n",
      "        [[ 0.8882,  0.5511, -0.7181, -0.9120,  0.0813],\n",
      "         [-0.7657, -1.9638, -1.3845, -1.1404, -0.2116],\n",
      "         [ 0.5681, -0.7682, -0.1739, -0.6880,  0.0435],\n",
      "         [ 0.4230, -0.5876, -0.6416,  0.2801,  0.5740],\n",
      "         [ 0.8882,  0.5511, -0.7181, -0.9120,  0.0813],\n",
      "         [ 0.6307,  1.7329,  0.7282,  0.0100, -1.6937]]],\n",
      "       grad_fn=<EmbeddingBackward0>) torch.Size([4, 6, 5])\n"
     ]
    }
   ],
   "source": [
    "# Embedding Layer\n",
    "\n",
    "emb = nn.Embedding(10,5)\n",
    "for param in emb.parameters():\n",
    "    print(param,param.shape)\n",
    "x = torch.randint(low=0,high=10,size=(4,6))\n",
    "print(x)\n",
    "y = emb(x)\n",
    "print(y,y.shape)"
   ],
   "metadata": {
    "collapsed": false,
    "ExecuteTime": {
     "end_time": "2023-11-06T19:17:36.160926200Z",
     "start_time": "2023-11-06T19:17:36.133407700Z"
    }
   },
   "id": "e937bc2d32429cf8"
  },
  {
   "cell_type": "code",
   "execution_count": 55,
   "outputs": [
    {
     "name": "stdout",
     "output_type": "stream",
     "text": [
      "weight_ih_l0 torch.Size([32, 5])\n",
      "weight_hh_l0 torch.Size([32, 8])\n",
      "bias_ih_l0 torch.Size([32])\n",
      "bias_hh_l0 torch.Size([32])\n",
      "tensor([[[-0.0374,  0.1385, -0.1738, -0.1217, -0.0395,  0.1048,  0.1730,\n",
      "          -0.1069],\n",
      "         [-0.1703,  0.2635,  0.0329, -0.0674, -0.1061,  0.2347,  0.2165,\n",
      "           0.1122],\n",
      "         [-0.0170,  0.2285, -0.0157,  0.0276, -0.2342,  0.2067,  0.2054,\n",
      "          -0.0760],\n",
      "         [ 0.1323,  0.1986, -0.0643,  0.0327, -0.2214,  0.1211,  0.2011,\n",
      "          -0.1882],\n",
      "         [ 0.1694,  0.4118,  0.0895, -0.0438, -0.0611,  0.1761,  0.2275,\n",
      "          -0.0618],\n",
      "         [-0.0437,  0.2553,  0.0097, -0.0311, -0.0771,  0.1383,  0.3086,\n",
      "          -0.0773]],\n",
      "\n",
      "        [[-0.0170,  0.0904, -0.1656,  0.0521, -0.1943,  0.1080,  0.1986,\n",
      "          -0.1571],\n",
      "         [-0.0679,  0.0442, -0.1730,  0.0587, -0.1524,  0.0752,  0.2647,\n",
      "          -0.2594],\n",
      "         [-0.2501,  0.2666,  0.0516, -0.1108,  0.0262,  0.2204,  0.2584,\n",
      "           0.1463],\n",
      "         [-0.0926,  0.2042, -0.0345, -0.1218, -0.0673,  0.1293,  0.2024,\n",
      "          -0.0887],\n",
      "         [-0.0739,  0.1569,  0.0644, -0.0443, -0.1821, -0.0021,  0.1084,\n",
      "          -0.2158],\n",
      "         [-0.1953,  0.3104,  0.1715, -0.1395, -0.1765,  0.1642,  0.2058,\n",
      "           0.1573]],\n",
      "\n",
      "        [[-0.1742,  0.0822,  0.0644,  0.0846, -0.1473, -0.0067,  0.1024,\n",
      "           0.0308],\n",
      "         [-0.1978, -0.0172, -0.1333,  0.1097, -0.0793, -0.0156,  0.2336,\n",
      "          -0.0596],\n",
      "         [-0.1922,  0.1073, -0.0360,  0.1405, -0.2759,  0.0929,  0.1994,\n",
      "           0.0118],\n",
      "         [-0.2730,  0.0265,  0.0459,  0.1499, -0.2727,  0.0651,  0.2389,\n",
      "          -0.0009],\n",
      "         [-0.1981,  0.1105, -0.0947,  0.1587, -0.3292,  0.1415,  0.3080,\n",
      "          -0.0711],\n",
      "         [-0.1921,  0.2577, -0.0198,  0.1228, -0.3199,  0.2437,  0.4547,\n",
      "           0.0760]],\n",
      "\n",
      "        [[-0.1044,  0.1652,  0.1056,  0.0709, -0.2148,  0.0854,  0.1096,\n",
      "           0.0515],\n",
      "         [ 0.0464,  0.2405, -0.1295, -0.1058, -0.2829,  0.1316,  0.2046,\n",
      "          -0.1763],\n",
      "         [ 0.0680,  0.3929,  0.0150, -0.2852, -0.1962,  0.3264,  0.3049,\n",
      "          -0.0530],\n",
      "         [ 0.1337,  0.1827, -0.0885, -0.0055, -0.1863,  0.1845,  0.2218,\n",
      "          -0.1842],\n",
      "         [ 0.0479,  0.1588, -0.1030,  0.0281, -0.2492,  0.1684,  0.3241,\n",
      "          -0.2610],\n",
      "         [-0.1351,  0.0696, -0.0928,  0.1202, -0.1636,  0.1635,  0.3098,\n",
      "          -0.2437]]], grad_fn=<TransposeBackward0>) torch.Size([4, 6, 8])\n"
     ]
    }
   ],
   "source": [
    "# LSTM Layer\n",
    "\n",
    "lstm = nn.LSTM(input_size=5,hidden_size=8,batch_first=True,bidirectional=False)\n",
    "for name_param in (lstm.named_parameters()):\n",
    "    print(name_param[0],name_param[1].shape)\n",
    "x = torch.randn(4,6,5) # batch_size * sentence_length * embedding_size\n",
    "y,_ = lstm(x)\n",
    "print(y,y.shape)"
   ],
   "metadata": {
    "collapsed": false,
    "ExecuteTime": {
     "end_time": "2023-11-06T19:31:27.191113300Z",
     "start_time": "2023-11-06T19:31:27.175113200Z"
    }
   },
   "id": "dbf52a312208b971"
  },
  {
   "cell_type": "markdown",
   "source": [
    "## Torch Backward & Optimization"
   ],
   "metadata": {
    "collapsed": false
   },
   "id": "8a9c7248d37b57b"
  },
  {
   "cell_type": "code",
   "execution_count": 78,
   "outputs": [],
   "source": [
    "# 一个简单的逻辑斯蒂回归模型\n",
    "\n",
    "class LogisiticRegressionModel(torch.nn.Module):\n",
    "\n",
    "    def __init__(self):\n",
    "        super(LogisiticRegressionModel, self).__init__()\n",
    "        self.linear1 = torch.nn.Linear(1, 1)\n",
    "\n",
    "    def forward(self, x):\n",
    "        x = self.linear1(x)\n",
    "        y_pred = torch.sigmoid(x)\n",
    "        return y_pred\n",
    "\n",
    "model = LogisiticRegressionModel()\n"
   ],
   "metadata": {
    "collapsed": false,
    "ExecuteTime": {
     "end_time": "2023-11-06T20:37:01.259930800Z",
     "start_time": "2023-11-06T20:37:01.240835700Z"
    }
   },
   "id": "6e9ace7f19cdc4c"
  },
  {
   "cell_type": "code",
   "execution_count": 79,
   "outputs": [
    {
     "name": "stdout",
     "output_type": "stream",
     "text": [
      "linear1.weight Parameter containing:\n",
      "tensor([[0.7685]], requires_grad=True)\n",
      "linear1.bias Parameter containing:\n",
      "tensor([-0.8625], requires_grad=True)\n"
     ]
    }
   ],
   "source": [
    "for name_param in model.named_parameters():\n",
    "    print(name_param[0],name_param[1])"
   ],
   "metadata": {
    "collapsed": false,
    "ExecuteTime": {
     "end_time": "2023-11-06T20:37:02.268093900Z",
     "start_time": "2023-11-06T20:37:02.253984400Z"
    }
   },
   "id": "84c7dd0a74089aa2"
  },
  {
   "cell_type": "code",
   "execution_count": 86,
   "outputs": [],
   "source": [
    "# 构建标准 Dataset 和 Dataloader\n",
    "# 如何运用 Python迭代器实现 Pytorch中的 Dataloader ：https://zhuanlan.zhihu.com/p/340465632\n",
    "# 通过 Dataloader 实现 minibatch\n",
    "\n",
    "# 也可以用 torch.utils.data.TensorDataset\n",
    "class TrainDataset(torch.utils.data.Dataset):\n",
    "    def __init__(self):\n",
    "        self.data = torch.randint(low=0,high=10,size=(100,),dtype=torch.float32)\n",
    "        self.label = torch.tensor([1.0 if i >= 5 else 0 for i in self.data],dtype=torch.float32)\n",
    "    \n",
    "    def __getitem__(self, index):\n",
    "        return [self.data[index],self.label[index]]\n",
    "    \n",
    "    def __len__(self):\n",
    "        return self.data.shape[0]\n",
    "\n",
    "train_dataset = TrainDataset()"
   ],
   "metadata": {
    "collapsed": false,
    "ExecuteTime": {
     "end_time": "2023-11-06T20:42:22.932913400Z",
     "start_time": "2023-11-06T20:42:22.899361100Z"
    }
   },
   "id": "19635cd60d2dcbf3"
  },
  {
   "cell_type": "code",
   "execution_count": 87,
   "outputs": [
    {
     "name": "stdout",
     "output_type": "stream",
     "text": [
      "[tensor([3., 5., 6., 0., 9., 9., 9., 2.]), tensor([0., 1., 1., 0., 1., 1., 1., 0.])]\n",
      "[tensor([8., 7., 5., 8., 3., 2., 6., 1.]), tensor([1., 1., 1., 1., 0., 0., 1., 0.])]\n",
      "[tensor([6., 0., 4., 9., 3., 2., 1., 7.]), tensor([1., 0., 0., 1., 0., 0., 0., 1.])]\n",
      "[tensor([1., 3., 3., 9., 6., 9., 0., 6.]), tensor([0., 0., 0., 1., 1., 1., 0., 1.])]\n",
      "[tensor([2., 3., 7., 7., 2., 4., 6., 9.]), tensor([0., 0., 1., 1., 0., 0., 1., 1.])]\n",
      "[tensor([8., 9., 7., 1., 7., 0., 0., 5.]), tensor([1., 1., 1., 0., 1., 0., 0., 1.])]\n",
      "[tensor([7., 0., 0., 2., 9., 1., 9., 4.]), tensor([1., 0., 0., 0., 1., 0., 1., 0.])]\n",
      "[tensor([9., 5., 2., 7., 0., 8., 5., 7.]), tensor([1., 1., 0., 1., 0., 1., 1., 1.])]\n",
      "[tensor([3., 4., 1., 3., 2., 0., 0., 8.]), tensor([0., 0., 0., 0., 0., 0., 0., 1.])]\n",
      "[tensor([1., 0., 6., 3., 6., 7., 8., 9.]), tensor([0., 0., 1., 0., 1., 1., 1., 1.])]\n",
      "[tensor([1., 8., 7., 3., 4., 8., 6., 5.]), tensor([0., 1., 1., 0., 0., 1., 1., 1.])]\n",
      "[tensor([5., 2., 9., 3., 0., 1., 9., 0.]), tensor([1., 0., 1., 0., 0., 0., 1., 0.])]\n",
      "[tensor([3., 7., 8., 2.]), tensor([0., 1., 1., 0.])]\n"
     ]
    }
   ],
   "source": [
    "from torch.utils.data import DataLoader\n",
    "\n",
    "dataloader = DataLoader(train_dataset,batch_size=8)\n",
    "for data in dataloader:\n",
    "    print(data)"
   ],
   "metadata": {
    "collapsed": false,
    "ExecuteTime": {
     "end_time": "2023-11-06T20:42:23.685475200Z",
     "start_time": "2023-11-06T20:42:23.648479900Z"
    }
   },
   "id": "8cab78d66d6392b7"
  },
  {
   "cell_type": "code",
   "execution_count": 94,
   "outputs": [],
   "source": [
    "critertion = nn.BCELoss() # 交叉熵损失函数\n",
    "optimizer = torch.optim.Adam(model.parameters(),lr=0.01) # Adam优化器\n",
    "\n",
    "for epoch in range(1000):\n",
    "    for train_iter in dataloader:\n",
    "        y_pred = model(train_iter[0].view(train_iter[0].shape[0],1))\n",
    "        loss = critertion(y_pred,train_iter[1].view(train_iter[1].shape[0],1))\n",
    "        # print(epoch, loss.item())\n",
    "\n",
    "        optimizer.zero_grad()\n",
    "        loss.backward()\n",
    "        optimizer.step()\n"
   ],
   "metadata": {
    "collapsed": false,
    "ExecuteTime": {
     "end_time": "2023-11-06T20:48:54.535617500Z",
     "start_time": "2023-11-06T20:48:48.654445400Z"
    }
   },
   "id": "ac7127f0bbd13a59"
  },
  {
   "cell_type": "code",
   "execution_count": 95,
   "outputs": [
    {
     "name": "stdout",
     "output_type": "stream",
     "text": [
      "linear1.weight Parameter containing:\n",
      "tensor([[4.4175]], requires_grad=True)\n",
      "linear1.bias Parameter containing:\n",
      "tensor([-19.6022], requires_grad=True)\n"
     ]
    }
   ],
   "source": [
    "for name_param in model.named_parameters():\n",
    "    print(name_param[0],name_param[1])"
   ],
   "metadata": {
    "collapsed": false,
    "ExecuteTime": {
     "end_time": "2023-11-06T20:48:56.145870500Z",
     "start_time": "2023-11-06T20:48:56.104982500Z"
    }
   },
   "id": "b80a0b25eecd6324"
  },
  {
   "cell_type": "code",
   "execution_count": 101,
   "outputs": [
    {
     "name": "stdout",
     "output_type": "stream",
     "text": [
      "tensor([[1.2649e-01],\n",
      "        [9.2309e-01],\n",
      "        [1.0000e+00],\n",
      "        [2.5430e-07],\n",
      "        [9.9999e-01],\n",
      "        [9.9900e-01]])\n"
     ]
    }
   ],
   "source": [
    "x = torch.tensor([[4.],[5.],[9.],[1.],[7.],[6.]])\n",
    "with torch.no_grad():\n",
    "    y = model(x)\n",
    "\n",
    "print(y)"
   ],
   "metadata": {
    "collapsed": false,
    "ExecuteTime": {
     "end_time": "2023-11-06T20:55:57.141008800Z",
     "start_time": "2023-11-06T20:55:57.129999200Z"
    }
   },
   "id": "e298e62d3c9cf92b"
  },
  {
   "cell_type": "code",
   "execution_count": null,
   "outputs": [],
   "source": [],
   "metadata": {
    "collapsed": false
   },
   "id": "705aff5945de5fa2"
  }
 ],
 "metadata": {
  "kernelspec": {
   "display_name": "Python 3",
   "language": "python",
   "name": "python3"
  },
  "language_info": {
   "codemirror_mode": {
    "name": "ipython",
    "version": 2
   },
   "file_extension": ".py",
   "mimetype": "text/x-python",
   "name": "python",
   "nbconvert_exporter": "python",
   "pygments_lexer": "ipython2",
   "version": "2.7.6"
  }
 },
 "nbformat": 4,
 "nbformat_minor": 5
}
